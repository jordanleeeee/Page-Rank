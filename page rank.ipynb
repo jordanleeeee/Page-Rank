{
 "cells": [
  {
   "cell_type": "code",
   "execution_count": 1,
   "metadata": {},
   "outputs": [],
   "source": [
    "import numpy as np\n",
    "import json"
   ]
  },
  {
   "cell_type": "code",
   "execution_count": 2,
   "metadata": {},
   "outputs": [],
   "source": [
    "def printPageRank(pageRank, iteration):\n",
    "    print(\"iteration \"+str(iteration)+\":\\t\", end='')\n",
    "    for x in range(pageRank.shape[1]):  # num of column of matrix\n",
    "        print(\"D\" + str(x + 1), end=': ')\n",
    "        print(\"{:.3f}\".format(pageRank[0, x]), end='\\t')  # round down to 3 decimal place\n",
    "    print()\n",
    "\n",
    "\n",
    "def calPageRank(PR, G, d, n, norm):\n",
    "    H = G                           # convert G to H\n",
    "    for row in range(len(H)):\n",
    "        total = sum(H[row])\n",
    "        for column in range(len(H[0])):\n",
    "            H[row][column] /= total\n",
    "\n",
    "    pageRank = np.matrix(PR)\n",
    "    printPageRank(pageRank, 0)\n",
    "    for i in range(1, n+1):\n",
    "        pageRank = (1 - d) + d * pageRank.dot(H)\n",
    "        if norm == 1 or (norm == 2 and i == n):\n",
    "            L1Norm = np.sum(pageRank)\n",
    "            pageRank = pageRank / L1Norm\n",
    "        printPageRank(pageRank, i)"
   ]
  },
  {
   "cell_type": "code",
   "execution_count": 7,
   "metadata": {},
   "outputs": [],
   "source": [
    "with open('input.json') as file:\n",
    "    data = json.load(file)\n",
    "\n",
    "PR = data[\"PR\"]\n",
    "G = data[\"G\"]"
   ]
  },
  {
   "cell_type": "code",
   "execution_count": 8,
   "metadata": {},
   "outputs": [
    {
     "name": "stdout",
     "output_type": "stream",
     "text": [
      "iteration 0:\tD1: 1.000\tD2: 1.000\tD3: 1.000\tD4: 1.000\t\n",
      "iteration 1:\tD1: 0.317\tD2: 0.050\tD3: 0.517\tD4: 0.117\t\n",
      "iteration 2:\tD1: 0.392\tD2: 0.125\tD3: 0.350\tD4: 0.133\t\n",
      "iteration 3:\tD1: 0.321\tD2: 0.125\tD3: 0.408\tD4: 0.146\t\n",
      "iteration 4:\tD1: 0.350\tD2: 0.125\tD3: 0.379\tD4: 0.146\t\n",
      "iteration 5:\tD1: 0.335\tD2: 0.125\tD3: 0.394\tD4: 0.146\t\n",
      "iteration 6:\tD1: 0.343\tD2: 0.125\tD3: 0.386\tD4: 0.146\t\n",
      "iteration 7:\tD1: 0.339\tD2: 0.125\tD3: 0.390\tD4: 0.146\t\n",
      "iteration 8:\tD1: 0.341\tD2: 0.125\tD3: 0.388\tD4: 0.146\t\n",
      "iteration 9:\tD1: 0.340\tD2: 0.125\tD3: 0.389\tD4: 0.146\t\n",
      "iteration 10:\tD1: 0.340\tD2: 0.125\tD3: 0.389\tD4: 0.146\t\n",
      "iteration 11:\tD1: 0.340\tD2: 0.125\tD3: 0.389\tD4: 0.146\t\n",
      "iteration 12:\tD1: 0.340\tD2: 0.125\tD3: 0.389\tD4: 0.146\t\n",
      "iteration 13:\tD1: 0.340\tD2: 0.125\tD3: 0.389\tD4: 0.146\t\n",
      "iteration 14:\tD1: 0.340\tD2: 0.125\tD3: 0.389\tD4: 0.146\t\n",
      "iteration 15:\tD1: 0.340\tD2: 0.125\tD3: 0.389\tD4: 0.146\t\n",
      "iteration 16:\tD1: 0.340\tD2: 0.125\tD3: 0.389\tD4: 0.146\t\n",
      "iteration 17:\tD1: 0.340\tD2: 0.125\tD3: 0.389\tD4: 0.146\t\n",
      "iteration 18:\tD1: 0.340\tD2: 0.125\tD3: 0.389\tD4: 0.146\t\n",
      "iteration 19:\tD1: 0.340\tD2: 0.125\tD3: 0.389\tD4: 0.146\t\n",
      "iteration 20:\tD1: 0.340\tD2: 0.125\tD3: 0.389\tD4: 0.146\t\n"
     ]
    }
   ],
   "source": [
    "calPageRank(PR, G, 0.8, 20, 1)"
   ]
  },
  {
   "cell_type": "code",
   "execution_count": 9,
   "metadata": {},
   "outputs": [
    {
     "name": "stdout",
     "output_type": "stream",
     "text": [
      "iteration 0:\tD1: 1.000\tD2: 1.000\tD3: 1.000\tD4: 1.000\t\n",
      "iteration 1:\tD1: 0.258\tD2: 0.225\tD3: 0.283\tD4: 0.233\t\n",
      "iteration 2:\tD1: 0.253\tD2: 0.243\tD3: 0.259\tD4: 0.245\t\n",
      "iteration 3:\tD1: 0.252\tD2: 0.243\tD3: 0.259\tD4: 0.245\t\n",
      "iteration 4:\tD1: 0.252\tD2: 0.243\tD3: 0.259\tD4: 0.245\t\n",
      "iteration 5:\tD1: 0.252\tD2: 0.243\tD3: 0.259\tD4: 0.245\t\n",
      "iteration 6:\tD1: 0.252\tD2: 0.243\tD3: 0.259\tD4: 0.245\t\n",
      "iteration 7:\tD1: 0.252\tD2: 0.243\tD3: 0.259\tD4: 0.245\t\n",
      "iteration 8:\tD1: 0.252\tD2: 0.243\tD3: 0.259\tD4: 0.245\t\n",
      "iteration 9:\tD1: 0.252\tD2: 0.243\tD3: 0.259\tD4: 0.245\t\n",
      "iteration 10:\tD1: 0.252\tD2: 0.243\tD3: 0.259\tD4: 0.245\t\n",
      "iteration 11:\tD1: 0.252\tD2: 0.243\tD3: 0.259\tD4: 0.245\t\n",
      "iteration 12:\tD1: 0.252\tD2: 0.243\tD3: 0.259\tD4: 0.245\t\n",
      "iteration 13:\tD1: 0.252\tD2: 0.243\tD3: 0.259\tD4: 0.245\t\n",
      "iteration 14:\tD1: 0.252\tD2: 0.243\tD3: 0.259\tD4: 0.245\t\n",
      "iteration 15:\tD1: 0.252\tD2: 0.243\tD3: 0.259\tD4: 0.245\t\n",
      "iteration 16:\tD1: 0.252\tD2: 0.243\tD3: 0.259\tD4: 0.245\t\n",
      "iteration 17:\tD1: 0.252\tD2: 0.243\tD3: 0.259\tD4: 0.245\t\n",
      "iteration 18:\tD1: 0.252\tD2: 0.243\tD3: 0.259\tD4: 0.245\t\n",
      "iteration 19:\tD1: 0.252\tD2: 0.243\tD3: 0.259\tD4: 0.245\t\n",
      "iteration 20:\tD1: 0.252\tD2: 0.243\tD3: 0.259\tD4: 0.245\t\n"
     ]
    }
   ],
   "source": [
    "calPageRank(PR, G, 0.1, 20, 1)"
   ]
  },
  {
   "cell_type": "code",
   "execution_count": null,
   "metadata": {},
   "outputs": [],
   "source": []
  }
 ],
 "metadata": {
  "kernelspec": {
   "display_name": "Python 3",
   "language": "python",
   "name": "python3"
  },
  "language_info": {
   "codemirror_mode": {
    "name": "ipython",
    "version": 3
   },
   "file_extension": ".py",
   "mimetype": "text/x-python",
   "name": "python",
   "nbconvert_exporter": "python",
   "pygments_lexer": "ipython3",
   "version": "3.8.2"
  }
 },
 "nbformat": 4,
 "nbformat_minor": 4
}
